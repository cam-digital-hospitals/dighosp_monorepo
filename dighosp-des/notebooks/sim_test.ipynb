{
 "cells": [
  {
   "cell_type": "code",
   "execution_count": null,
   "metadata": {},
   "outputs": [],
   "source": [
    "import requests\n",
    "\n",
    "NUM_REPS = 30\n",
    "API_URL = 'http://localhost/api/des'"
   ]
  },
  {
   "cell_type": "code",
   "execution_count": null,
   "metadata": {},
   "outputs": [],
   "source": [
    "response = requests.get(f'{API_URL}/jobs')\n",
    "response.json()"
   ]
  },
  {
   "cell_type": "code",
   "execution_count": null,
   "metadata": {},
   "outputs": [],
   "source": [
    "with open('../../assets/config_base.xlsx', 'rb') as fp:\n",
    "    response = requests.post(\n",
    "        f'{API_URL}/jobs',\n",
    "        files={'config_bytes': ('config_base.xlsx', fp.read())},\n",
    "        data={\n",
    "            'sim_hours': 168*10.0,\n",
    "            'num_reps': 30,\n",
    "            'runner_speed': 1.2\n",
    "        },\n",
    "        timeout=30\n",
    "    )\n",
    "\n",
    "assert response.status_code == 202\n",
    "_id = response.json()['id']"
   ]
  },
  {
   "cell_type": "code",
   "execution_count": null,
   "metadata": {},
   "outputs": [],
   "source": [
    "from time import sleep\n",
    "from IPython.display import clear_output, display\n",
    "\n",
    "while True:\n",
    "    clear_output(wait=True)\n",
    "    response = requests.get(f'{API_URL}/jobs/{_id}/status')\n",
    "    assert response.status_code == 200\n",
    "    display(status := response.json())\n",
    "    if status['progress'] == status['max_progress']:\n",
    "        break\n",
    "    sleep(5)"
   ]
  },
  {
   "cell_type": "code",
   "execution_count": null,
   "metadata": {},
   "outputs": [],
   "source": [
    "response = requests.get(f'{API_URL}/jobs/{_id}/results/0')\n",
    "assert response.status_code == 200"
   ]
  },
  {
   "cell_type": "code",
   "execution_count": null,
   "metadata": {},
   "outputs": [],
   "source": [
    "response.json().keys()"
   ]
  },
  {
   "cell_type": "code",
   "execution_count": null,
   "metadata": {},
   "outputs": [],
   "source": [
    "data = [None]*NUM_REPS\n",
    "\n",
    "for idx in range(NUM_REPS):\n",
    "    response = requests.get(f'{API_URL}/jobs/{_id}/results/{idx}')\n",
    "    assert response.status_code == 200\n",
    "    data[idx] = response.json()"
   ]
  },
  {
   "cell_type": "code",
   "execution_count": null,
   "metadata": {},
   "outputs": [],
   "source": [
    "import pandas as pd\n",
    "import numpy as np\n",
    "from scipy.stats import sem, t as student_t\n",
    "\n",
    "import plotly.express as px\n",
    "import plotly.graph_objects as go"
   ]
  },
  {
   "cell_type": "markdown",
   "metadata": {},
   "source": [
    "### Utilisation"
   ]
  },
  {
   "cell_type": "code",
   "execution_count": null,
   "metadata": {},
   "outputs": [],
   "source": [
    "def timeseries_mean(df: pd.DataFrame, time_col = 't', val_col = 'x'):\n",
    "    _tmp = df.copy()\n",
    "    # diff() starts with 'NaN' in first row, so shift(-1) is needed\n",
    "    return float(np.average(_tmp[val_col][:-1], weights=_tmp[time_col].diff().shift(-1)[:-1]))\n",
    "\n",
    "def mean_claimed(data: dict, resource_name: str):\n",
    "    df = pd.DataFrame(\n",
    "        data['resources']['n_claimed'][resource_name],\n",
    "        columns=['t','x']\n",
    "    )\n",
    "    return timeseries_mean(df)\n",
    "\n",
    "def mean_available(data: dict, resource_name: str):\n",
    "    df = pd.DataFrame(\n",
    "        data['resources']['capacity'][resource_name],\n",
    "        columns=['t','x']\n",
    "    )\n",
    "    return timeseries_mean(df)\n",
    "\n",
    "def utilisation(data):\n",
    "    return {\n",
    "        res: {\n",
    "            'median': np.quantile([mean_claimed(dd, res)/mean_available(dd, res) for dd in data], 0.5)\n",
    "        }\n",
    "        for res in data[0]['resources']['n_claimed'].keys()\n",
    "    }"
   ]
  },
  {
   "cell_type": "code",
   "execution_count": null,
   "metadata": {},
   "outputs": [],
   "source": [
    "df = pd.DataFrame.from_dict(utilisation(data), orient='index').sort_values(by='median', ascending=False)\n",
    "df2 = pd.concat([\n",
    "    pd.DataFrame([[res, mean_claimed(dd, res)/mean_available(dd, res)] for dd in data],\n",
    "             columns=['label', 'value'])\n",
    "    for res in data[0]['resources']['n_claimed'].keys()\n",
    "])\n",
    "fig = px.box(df2, 'label', 'value')\n",
    "fig.update_xaxes(categoryorder='array', categoryarray=df.index)\n",
    "fig"
   ]
  },
  {
   "cell_type": "markdown",
   "metadata": {},
   "source": [
    "### WIP"
   ]
  },
  {
   "cell_type": "code",
   "execution_count": null,
   "metadata": {},
   "outputs": [],
   "source": [
    "def wip_df(data, wip):\n",
    "    df = pd.DataFrame(data['wips'][wip], columns=['t','x']).set_index('t')\n",
    "    df.index = pd.to_timedelta(df.index, unit='h')\n",
    "    df = df.resample('h').mean().ffill()\n",
    "    return df\n",
    "\n",
    "def wips_df(data, wip):\n",
    "    df = pd.concat([wip_df(dd, wip) for dd in data], axis=1)\n",
    "    df2 = pd.DataFrame({\n",
    "        'q10': df.quantile(0.1, axis=1),\n",
    "        'q25': df.quantile(0.25, axis=1),\n",
    "        'median': df.quantile(0.5, axis=1),\n",
    "        'q75': df.quantile(0.75, axis=1),\n",
    "        'q90': df.quantile(0.9, axis=1)\n",
    "    })\n",
    "    df2.index = df2.index / pd.Timedelta(days=1)\n",
    "    return df2"
   ]
  },
  {
   "cell_type": "code",
   "execution_count": null,
   "metadata": {},
   "outputs": [],
   "source": [
    "df = wips_df(data, 'Total WIP')\n",
    "\n",
    "fig = go.Figure()\n",
    "\n",
    "fig.add_trace(\n",
    "    go.Scatter(\n",
    "        x = df.index,\n",
    "        y=df.q90,\n",
    "        line_width=0,\n",
    "        line_color='rgba(255,255,255,0)',\n",
    "    )\n",
    ")\n",
    "fig.add_trace(\n",
    "    go.Scatter(\n",
    "        x = df.index,\n",
    "        y=df.q10,\n",
    "        fill='tonexty',\n",
    "        fillcolor='rgba(0,0,255,0.2)',\n",
    "        mode='none',\n",
    "    )\n",
    ")\n",
    "fig.add_trace(\n",
    "    go.Scatter(\n",
    "        x = df.index,\n",
    "        y=df.q75,\n",
    "        line_width=0,\n",
    "        line_color='rgba(255,255,255,0)',\n",
    "    )\n",
    ")\n",
    "fig.add_trace(\n",
    "    go.Scatter(\n",
    "        x = df.index,\n",
    "        y=df.q25,\n",
    "        fill='tonexty',\n",
    "        fillcolor='rgba(0,0,255,0.4)',\n",
    "        mode='none',\n",
    "    )\n",
    ")\n",
    "fig.add_trace(\n",
    "    go.Scatter(\n",
    "        x = df.index,\n",
    "        y=df['median'],\n",
    "        line_color='rgb(0,0,0)'\n",
    "    )\n",
    ")\n",
    "\n",
    "fig.update_layout(showlegend=False, title='Total WIP')\n",
    "fig.update_xaxes(title='Days')\n",
    "fig.update_yaxes(title='Work in progress')\n",
    "fig"
   ]
  },
  {
   "cell_type": "markdown",
   "metadata": {},
   "source": [
    "### Lab TAT"
   ]
  },
  {
   "cell_type": "code",
   "execution_count": null,
   "metadata": {},
   "outputs": [],
   "source": [
    "from itertools import chain\n",
    "from math import ceil\n",
    "\n",
    "\n",
    "lab_tats = [[\n",
    "    (x['qc_end']-x['reception_start'])/24.0\n",
    "    for x in data[n]['specimen_data'].values()\n",
    "    if 'reporting_end' in x\n",
    "] for n in range(len(data))]\n",
    "lab_tats = list(chain(*lab_tats))\n",
    "\n",
    "df = pd.DataFrame(lab_tats, columns=['x'])\n",
    "\n",
    "fig = px.histogram(df, x='x', nbins=28, histnorm='probability')\n",
    "fig.update_traces(\n",
    "    xbins={\n",
    "        'start': 0,\n",
    "        'end': ceil(max(df.x)),\n",
    "        'size': 1\n",
    "    }\n",
    ")\n",
    "fig.update_layout(title='Lab turnaround time')\n",
    "fig.update_xaxes(title='Days')\n",
    "fig.update_yaxes(title='Probability')\n",
    "fig"
   ]
  },
  {
   "cell_type": "code",
   "execution_count": null,
   "metadata": {},
   "outputs": [],
   "source": []
  }
 ],
 "metadata": {
  "kernelspec": {
   "display_name": ".venv",
   "language": "python",
   "name": "python3"
  },
  "language_info": {
   "codemirror_mode": {
    "name": "ipython",
    "version": 3
   },
   "file_extension": ".py",
   "mimetype": "text/x-python",
   "name": "python",
   "nbconvert_exporter": "python",
   "pygments_lexer": "ipython3",
   "version": "3.12.3"
  }
 },
 "nbformat": 4,
 "nbformat_minor": 2
}
