{
 "cells": [
  {
   "cell_type": "code",
   "execution_count": null,
   "metadata": {},
   "outputs": [],
   "source": [
    "def crumbs(labels, paths):\n",
    "    def crumb(label, href):\n",
    "        return {\n",
    "            'label': label,\n",
    "            'href': href\n",
    "        }\n",
    "    urls = list('/' + s for s in map('/'.join, list(paths[:n] for n in range(len(paths)+1))))\n",
    "    x = [crumb(*args) for args in list(zip(labels, urls))]\n",
    "    del x[-1]['href']\n",
    "    x[-1]['active'] = True\n",
    "    return x"
   ]
  },
  {
   "cell_type": "code",
   "execution_count": null,
   "metadata": {},
   "outputs": [],
   "source": [
    "labels = ('Home', 'Level 1', 'Level 2')\n",
    "paths = ('one', 'two')\n",
    "crumbs(labels, paths)"
   ]
  },
  {
   "cell_type": "code",
   "execution_count": null,
   "metadata": {},
   "outputs": [],
   "source": [
    "crumbs(('Home', ), ())"
   ]
  },
  {
   "cell_type": "code",
   "execution_count": null,
   "metadata": {},
   "outputs": [],
   "source": []
  }
 ],
 "metadata": {
  "kernelspec": {
   "display_name": "Python 3",
   "language": "python",
   "name": "python3"
  },
  "language_info": {
   "codemirror_mode": {
    "name": "ipython",
    "version": 3
   },
   "file_extension": ".py",
   "mimetype": "text/x-python",
   "name": "python",
   "nbconvert_exporter": "python",
   "pygments_lexer": "ipython3",
   "version": "3.12.3"
  }
 },
 "nbformat": 4,
 "nbformat_minor": 2
}
