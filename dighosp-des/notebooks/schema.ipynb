{
 "cells": [
  {
   "cell_type": "code",
   "execution_count": null,
   "metadata": {},
   "outputs": [],
   "source": [
    "import erdantic\n",
    "from dighosp_des import config, api\n",
    "\n",
    "from IPython.display import Image"
   ]
  },
  {
   "cell_type": "code",
   "execution_count": null,
   "metadata": {},
   "outputs": [],
   "source": [
    "# Note: this code results in an error in erdantic 1.0.3\n",
    "# Fixed in 1.0.4\n",
    "\n",
    "erdantic.draw(api.SimJob, out='schema/SimJob.erd.png', terminal_models=[config.Config])\n",
    "Image('schema/SimJob.erd.png')"
   ]
  },
  {
   "cell_type": "code",
   "execution_count": null,
   "metadata": {},
   "outputs": [],
   "source": [
    "erdantic.draw(api.JobSubmitResult, out='schema/JobSubmitResult.erd.png')\n",
    "Image('schema/JobSubmitResult.erd.png')"
   ]
  },
  {
   "cell_type": "code",
   "execution_count": null,
   "metadata": {},
   "outputs": [],
   "source": [
    "erdantic.draw(api.JobSummary, out='schema/JobSummary.erd.png')\n",
    "Image('schema/JobSummary.erd.png')"
   ]
  },
  {
   "cell_type": "code",
   "execution_count": null,
   "metadata": {},
   "outputs": [],
   "source": [
    "erdantic.draw(config.Config, out='schema/Config.erd.png')\n",
    "Image('schema/Config.erd.png')"
   ]
  },
  {
   "cell_type": "code",
   "execution_count": null,
   "metadata": {},
   "outputs": [],
   "source": []
  }
 ],
 "metadata": {
  "kernelspec": {
   "display_name": ".venv",
   "language": "python",
   "name": "python3"
  },
  "language_info": {
   "codemirror_mode": {
    "name": "ipython",
    "version": 3
   },
   "file_extension": ".py",
   "mimetype": "text/x-python",
   "name": "python",
   "nbconvert_exporter": "python",
   "pygments_lexer": "ipython3",
   "version": "3.12.3"
  }
 },
 "nbformat": 4,
 "nbformat_minor": 2
}
